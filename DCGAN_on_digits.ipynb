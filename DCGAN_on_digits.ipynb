{
 "cells": [
  {
   "cell_type": "markdown",
   "metadata": {},
   "source": [
    "## DCGANs on MNIST data\n",
    "You can run this notebook on google colab.\n",
    "\n",
    "<div align=\"center\"><a href=\"https://colab.research.google.com/github/vstark21/DCGANs/blob/master/DCGAN_on_digits.ipynb\"><img src=\"https://colab.research.google.com/assets/colab-badge.svg\"></a></div>"
   ]
  },
  {
   "cell_type": "code",
   "execution_count": 1,
   "metadata": {
    "colab": {},
    "colab_type": "code",
    "id": "NZBGwEZVD9dD"
   },
   "outputs": [],
   "source": [
    "import tensorflow as tf\n",
    "from tensorflow import keras\n",
    "import numpy as np\n",
    "from IPython import display\n",
    "import matplotlib.pyplot as plt\n",
    "import time"
   ]
  },
  {
   "cell_type": "markdown",
   "metadata": {},
   "source": [
    "Creating functions - \n",
    "* `generator_model` - returns a model to generate images.\n",
    "* `discriminator_model` - returns a model to discriminate original images and generated images.\n",
    "* `generator_loss` - loss to optimize generator model so that it produces images like original images.\n",
    "* `discriminator_loss` - loss to optimize discriminator model so that it discriminates original images and generated images correctly."
   ]
  },
  {
   "cell_type": "code",
   "execution_count": 2,
   "metadata": {
    "colab": {},
    "colab_type": "code",
    "id": "2OR0tNKADzem"
   },
   "outputs": [],
   "source": [
    "def generator_model():\n",
    "\n",
    "    model = keras.Sequential()\n",
    "\n",
    "    model.add(keras.layers.Dense(7*7*256, input_shape=[100, ]))\n",
    "    model.add(keras.layers.BatchNormalization())\n",
    "    model.add(keras.layers.ReLU())\n",
    "\n",
    "    model.add(keras.layers.Reshape((7, 7, 256)))\n",
    "\n",
    "    model.add(keras.layers.Conv2DTranspose(128, (5, 5), strides=(1, 1), padding=\"same\"))\n",
    "    model.add(keras.layers.BatchNormalization())\n",
    "    model.add(keras.layers.ReLU())\n",
    "\n",
    "    model.add(keras.layers.Conv2DTranspose(64, (5, 5), strides=(2, 2), padding=\"same\"))\n",
    "    model.add(keras.layers.BatchNormalization())\n",
    "    model.add(keras.layers.ReLU()),\n",
    "\n",
    "    model.add(keras.layers.Conv2DTranspose(1, (5, 5), strides=(2, 2), padding=\"same\", activation=\"tanh\"))\n",
    "\n",
    "    return model\n",
    "\n",
    "def discriminator_model():\n",
    "\n",
    "    model = keras.Sequential([\n",
    "                             keras.layers.Conv2D(64, (5, 5), strides=(2, 2), input_shape=(28, 28, 1), padding=\"same\"),\n",
    "                               keras.layers.Dropout(0.3),\n",
    "                             keras.layers.LeakyReLU(),\n",
    "\n",
    "                             keras.layers.Conv2D(128, (5, 5), strides=(2, 2), padding=\"same\"),\n",
    "                             keras.layers.Dropout(0.3),\n",
    "                             keras.layers.LeakyReLU(),\n",
    "                              \n",
    "                             keras.layers.Conv2D(256, (5, 5), strides=(2, 2), padding=\"same\"),\n",
    "                             keras.layers.Dropout(0.3),\n",
    "                             keras.layers.LeakyReLU(),\n",
    "\n",
    "                             keras.layers.Flatten(),\n",
    "                             keras.layers.Dense(1, activation=\"sigmoid\")\n",
    "    ])\n",
    "\n",
    "    return model\n",
    "\n",
    "def generator_loss(generated_output):\n",
    "\n",
    "    cross_entropy = keras.losses.BinaryCrossentropy()\n",
    "    loss = cross_entropy(tf.ones_like(generated_output), generated_output)\n",
    "    \n",
    "    return loss\n",
    "\n",
    "\n",
    "def discriminator_loss(original_output, generated_output):\n",
    "\n",
    "    cross_entropy = keras.losses.BinaryCrossentropy()\n",
    "    \n",
    "    real_loss =  cross_entropy(tf.ones_like(original_output), original_output)\n",
    "    gen_loss = cross_entropy(tf.zeros_like(generated_output), generated_output)\n",
    "\n",
    "    total_loss = real_loss + gen_loss\n",
    "\n",
    "    return total_loss\n",
    "\n",
    "    "
   ]
  },
  {
   "cell_type": "markdown",
   "metadata": {},
   "source": [
    "Loading data from `tf.keras.datasets.mnist` then reshaping, normalizing them and slicing them into minibatches.\n",
    "\n",
    "**NOTE :** \n",
    "> All the training images should be normalized to [-1, 1] beacuse all the discminator's inputs must have values which are in same range as generator model's output is computed using *tanh* so it returns values in range [-1, 1]."
   ]
  },
  {
   "cell_type": "code",
   "execution_count": 5,
   "metadata": {
    "colab": {},
    "colab_type": "code",
    "id": "Ck1cUG_rEDhu"
   },
   "outputs": [],
   "source": [
    "(train_images, train_labels), (_, _) = tf.keras.datasets.mnist.load_data()\n",
    "\n",
    "train_images = train_images.reshape(train_images.shape[0], 28, 28, 1).astype('float32')\n",
    "train_images = (train_images - 127.5) / 127.5 # Normalize the images to [-1, 1]\n",
    "\n",
    "BUFFER_SIZE = 60000\n",
    "BATCH_SIZE = 256\n",
    "\n",
    "# Batch and shuffle the data\n",
    "train_dataset = tf.data.Dataset.from_tensor_slices(train_images).shuffle(BUFFER_SIZE).batch(BATCH_SIZE)"
   ]
  },
  {
   "cell_type": "markdown",
   "metadata": {},
   "source": [
    "Creating a function `generate_and_save_images` so that we can save images after each epoch and creating a constant `TEST_INPUT` so that we can always use it to generate images to save."
   ]
  },
  {
   "cell_type": "code",
   "execution_count": 6,
   "metadata": {
    "colab": {},
    "colab_type": "code",
    "id": "oqhUi_CIEE3p"
   },
   "outputs": [],
   "source": [
    "TEST_INPUT = tf.random.normal((16, 100))\n",
    "def generate_and_save_images(model, epoch, test_input):\n",
    "\n",
    "    predictions = model(test_input, training=False)\n",
    "\n",
    "    fig = plt.figure(figsize=(4,4))\n",
    "    for i in range(predictions.shape[0]):\n",
    "        plt.subplot(4, 4, i+1)\n",
    "        plt.imshow(predictions[i, :, :, 0] * 127.5 + 127.5, cmap='gray')\n",
    "        plt.axis('off')\n",
    "\n",
    "    plt.savefig('image_at_epoch_{:04d}.png'.format(epoch))\n",
    "    plt.show()"
   ]
  },
  {
   "cell_type": "markdown",
   "metadata": {},
   "source": [
    "Creating a function `train_step` to train our models."
   ]
  },
  {
   "cell_type": "code",
   "execution_count": null,
   "metadata": {
    "colab": {},
    "colab_type": "code",
    "id": "HEi-DrsZEFkb"
   },
   "outputs": [],
   "source": [
    "@tf.function\n",
    "def train_step(batch):\n",
    "    \n",
    "    noise = tf.random.normal([BATCH_SIZE, GEN_INPUT_DIMS])\n",
    "\n",
    "    with tf.GradientTape() as gen_tape, tf.GradientTape() as disc_tape:\n",
    "\n",
    "        generated_images = generator(noise, training=True)\n",
    "            \n",
    "        original_output = discriminator(batch, training=True)\n",
    "        generated_output = discriminator(generated_images, training=True)\n",
    "\n",
    "        gen_loss = generator_loss(generated_output)\n",
    "        disc_loss = discriminator_loss(original_output, generated_output)\n",
    "\n",
    "    gen_gradients = gen_tape.gradient(gen_loss, generator.trainable_variables)\n",
    "    disc_gradients = disc_tape.gradient(disc_loss, discriminator.trainable_variables)\n",
    "\n",
    "    generator_optimizer.apply_gradients(zip(gen_gradients, generator.trainable_variables))\n",
    "    discriminator_optimizer.apply_gradients(zip(disc_gradients, discriminator.trainable_variables))\n",
    "\n",
    "    return gen_loss, disc_loss\n"
   ]
  },
  {
   "cell_type": "markdown",
   "metadata": {},
   "source": [
    "Creating a generator model to test whether its output matches our required output."
   ]
  },
  {
   "cell_type": "code",
   "execution_count": 4,
   "metadata": {
    "colab": {
     "base_uri": "https://localhost:8080/",
     "height": 265
    },
    "colab_type": "code",
    "id": "3WwWmBqQEBxZ",
    "outputId": "544d2baf-440b-42f6-e924-50402e9fabc4"
   },
   "outputs": [
    {
     "data": {
      "image/png": "[encoded data removed]",
      "text/plain": [
       "<Figure size 432x288 with 1 Axes>"
      ]
     },
     "metadata": {
      "needs_background": "light",
      "tags": []
     },
     "output_type": "display_data"
    }
   ],
   "source": [
    "gen_test = generator_model()\n",
    "image = gen_test(tf.random.normal([3, 100]))\n",
    "plt.imshow(image[1, :, :, 0] * 127.5 + 127.5, cmap=\"gray\")\n",
    "\n",
    "EPOCHS = 100\n",
    "GEN_INPUT_DIMS = 100"
   ]
  },
  {
   "cell_type": "markdown",
   "metadata": {},
   "source": [
    "Creating models and optimizers and training them using **mini-batch Gradient Descent**"
   ]
  },
  {
   "cell_type": "code",
   "execution_count": 8,
   "metadata": {
    "colab": {
     "base_uri": "https://localhost:8080/",
     "height": 265
    },
    "colab_type": "code",
    "id": "ypb9b8qaEHBi",
    "outputId": "f276ebe6-fcd7-40a8-d05a-145cf609e308"
   },
   "outputs": [
    {
     "data": {
      "image/png": "[encoded data removed]",
      "text/plain": [
       "<Figure size 288x288 with 16 Axes>"
      ]
     },
     "metadata": {
      "needs_background": "light",
      "tags": []
     },
     "output_type": "display_data"
    },
    {
     "name": "stdout",
     "output_type": "stream",
     "text": [
      "Epoch 99 took 45.63103413581848 with gen_loss of 0.9433663487434387 and disc_loss of 1.323568344116211\n"
     ]
    }
   ],
   "source": [
    "generator = generator_model()\n",
    "discriminator = discriminator_model()\n",
    "generator_optimizer = keras.optimizers.Adam(0.0001)\n",
    "discriminator_optimizer = keras.optimizers.Adam(0.0001)\n",
    "\n",
    "for epoch in range(EPOCHS):\n",
    "\n",
    "    print(f\"In epoch : {epoch}\")\n",
    "    epoch_start = time.time()\n",
    "\n",
    "    for batch in train_dataset:\n",
    "\n",
    "        gen_loss, disc_loss = train_step(batch)\n",
    "        \n",
    "\n",
    "    display.clear_output(wait=True)\n",
    "    generate_and_save_images(generator, epoch, TEST_INPUT)\n",
    "    print(f\"Epoch {epoch} took {time.time() - epoch_start} with gen_loss of {gen_loss} and disc_loss of {disc_loss}\")"
   ]
  },
  {
   "cell_type": "markdown",
   "metadata": {},
   "source": [
    "Creating a *gif* using all the images generated."
   ]
  },
  {
   "cell_type": "code",
   "execution_count": 9,
   "metadata": {
    "colab": {},
    "colab_type": "code",
    "id": "qXwtR4ZfEJdH"
   },
   "outputs": [],
   "source": [
    "import os, imageio\n",
    "\n",
    "files = os.listdir()\n",
    "\n",
    "images = []\n",
    "\n",
    "for filename in files:\n",
    "\n",
    "    if filename[-3:] == \"png\":\n",
    "        images.append(imageio.imread(filename))\n",
    "\n",
    "imageio.mimsave(\"Generating_Digits.gif\", images)"
   ]
  }
 ],
 "metadata": {
  "accelerator": "GPU",
  "colab": {
   "collapsed_sections": [],
   "name": "Pro0.ipynb",
   "provenance": []
  },
  "kernelspec": {
   "display_name": "Python 3",
   "language": "python",
   "name": "python3"
  },
  "language_info": {
   "codemirror_mode": {
    "name": "ipython",
    "version": 3
   },
   "file_extension": ".py",
   "mimetype": "text/x-python",
   "name": "python",
   "nbconvert_exporter": "python",
   "pygments_lexer": "ipython3",
   "version": "3.7.9"
  }
 },
 "nbformat": 4,
 "nbformat_minor": 4
}
